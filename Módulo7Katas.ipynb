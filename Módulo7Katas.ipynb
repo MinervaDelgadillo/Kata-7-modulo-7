{
 "cells": [
  {
   "cell_type": "code",
   "execution_count": 11,
   "metadata": {},
   "outputs": [
    {
     "name": "stdout",
     "output_type": "stream",
     "text": [
      "Ejercicio 1: Creación de un bucle while\n"
     ]
    }
   ],
   "source": [
    "print(\"Ejercicio 1: Creación de un bucle while\")\n",
    "new_planet=''\n",
    "planets=[]\n",
    "while new_planet != 'done' : #operadodes lo va hacer mientras sea diferente de done\n",
    "    if new_planet:\n",
    "        planets.append(new_planet)#lo de adentro es que toma ese valor el planets, para agregarlo\n",
    "    new_planet=input('Agrega un nuevo planeta por favor')\n",
    "\n",
    "print(\"Estos son todos los planetas que agregaste hasta poner la palabra done\"+ str(planets))\n",
    "\n",
    "print(\"Ejercicio 2: Creación de un ciclo for\")\n",
    "\n",
    "for planet in planets:\n",
    "    print(planet)\n",
    "\n"
   ]
  }
 ],
 "metadata": {
  "interpreter": {
   "hash": "6d789933423f2026dd762f632057f7ae59cc19f3153fdbf8a64e7992d654ea7e"
  },
  "kernelspec": {
   "display_name": "Python 3.10.2 64-bit",
   "language": "python",
   "name": "python3"
  },
  "language_info": {
   "codemirror_mode": {
    "name": "ipython",
    "version": 3
   },
   "file_extension": ".py",
   "mimetype": "text/x-python",
   "name": "python",
   "nbconvert_exporter": "python",
   "pygments_lexer": "ipython3",
   "version": "3.10.2"
  },
  "orig_nbformat": 4
 },
 "nbformat": 4,
 "nbformat_minor": 2
}
